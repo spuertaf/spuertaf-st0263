{
 "cells": [
  {
   "cell_type": "code",
   "execution_count": 1,
   "metadata": {},
   "outputs": [
    {
     "name": "stdout",
     "output_type": "stream",
     "text": [
      "Starting Spark application\n"
     ]
    },
    {
     "data": {
      "text/html": [
       "<table>\n",
       "<tr><th>ID</th><th>YARN Application ID</th><th>Kind</th><th>State</th><th>Spark UI</th><th>Driver log</th><th>User</th><th>Current session?</th></tr><tr><td>1</td><td>application_1700861051503_0004</td><td>pyspark</td><td>idle</td><td><a target=\"_blank\" href=\"http://ip-172-31-8-22.ec2.internal:20888/proxy/application_1700861051503_0004/\">Link</a></td><td><a target=\"_blank\" href=\"http://ip-172-31-12-106.ec2.internal:8042/node/containerlogs/container_1700861051503_0004_01_000001/livy\">Link</a></td><td>None</td><td>✔</td></tr></table>"
      ],
      "text/plain": [
       "<IPython.core.display.HTML object>"
      ]
     },
     "metadata": {},
     "output_type": "display_data"
    },
    {
     "data": {
      "application/vnd.jupyter.widget-view+json": {
       "model_id": "",
       "version_major": 2,
       "version_minor": 0
      },
      "text/plain": [
       "FloatProgress(value=0.0, bar_style='info', description='Progress:', layout=Layout(height='25px', width='50%'),…"
      ]
     },
     "metadata": {},
     "output_type": "display_data"
    },
    {
     "name": "stdout",
     "output_type": "stream",
     "text": [
      "SparkSession available as 'spark'.\n"
     ]
    },
    {
     "data": {
      "application/vnd.jupyter.widget-view+json": {
       "model_id": "",
       "version_major": 2,
       "version_minor": 0
      },
      "text/plain": [
       "FloatProgress(value=0.0, bar_style='info', description='Progress:', layout=Layout(height='25px', width='50%'),…"
      ]
     },
     "metadata": {},
     "output_type": "display_data"
    },
    {
     "name": "stdout",
     "output_type": "stream",
     "text": [
      "<SparkContext master=yarn appName=livy-session-1>"
     ]
    }
   ],
   "source": [
    "sc"
   ]
  },
  {
   "cell_type": "code",
   "execution_count": 2,
   "metadata": {},
   "outputs": [
    {
     "data": {
      "application/vnd.jupyter.widget-view+json": {
       "model_id": "",
       "version_major": 2,
       "version_minor": 0
      },
      "text/plain": [
       "FloatProgress(value=0.0, bar_style='info', description='Progress:', layout=Layout(height='25px', width='50%'),…"
      ]
     },
     "metadata": {},
     "output_type": "display_data"
    },
    {
     "name": "stdout",
     "output_type": "stream",
     "text": [
      "('the', 44647)\n",
      "('of', 28020)\n",
      "('to', 23208)\n",
      "('and', 20444)\n",
      "('in', 13174)\n",
      "('that', 12265)\n",
      "('I', 10880)\n",
      "('a', 10431)\n",
      "('is', 7776)\n",
      "('be', 7148)"
     ]
    }
   ],
   "source": [
    "# WORDCOUNT COMPACTO\n",
    "files_rdd = sc.textFile(\"s3://datasetsspuertaf/gutenberg-small/*.txt\")\n",
    "#files_rdd = sc.textFile(\"hdfs:///user/hadoop/datasets/gutenberg-small/*.txt\")\n",
    "wc_unsort = files_rdd.flatMap(lambda line: line.split()).map(lambda word: (word, 1)).reduceByKey(lambda a, b: a + b)\n",
    "wc = wc_unsort.sortBy(lambda a: -a[1])\n",
    "for tupla in wc.take(10):\n",
    "        print(tupla)"
   ]
  },
  {
   "cell_type": "code",
   "execution_count": 3,
   "metadata": {},
   "outputs": [
    {
     "data": {
      "application/vnd.jupyter.widget-view+json": {
       "model_id": "",
       "version_major": 2,
       "version_minor": 0
      },
      "text/plain": [
       "FloatProgress(value=0.0, bar_style='info', description='Progress:', layout=Layout(height='25px', width='50%'),…"
      ]
     },
     "metadata": {},
     "output_type": "display_data"
    }
   ],
   "source": [
    "# WORDCOUNT PASO A PASO"
   ]
  },
  {
   "cell_type": "code",
   "execution_count": 4,
   "metadata": {},
   "outputs": [
    {
     "data": {
      "application/vnd.jupyter.widget-view+json": {
       "model_id": "",
       "version_major": 2,
       "version_minor": 0
      },
      "text/plain": [
       "FloatProgress(value=0.0, bar_style='info', description='Progress:', layout=Layout(height='25px', width='50%'),…"
      ]
     },
     "metadata": {},
     "output_type": "display_data"
    },
    {
     "name": "stdout",
     "output_type": "stream",
     "text": [
      "\n",
      "LINCOLN LETTERS\n",
      "\n",
      "By Abraham Lincoln\n",
      "\n",
      "\n",
      "Published by The Bibilophile Society"
     ]
    }
   ],
   "source": [
    "files_rdd = sc.textFile(\"s3://datasetsspuertaf/gutenberg-small/*.txt\")\n",
    "#files = sc.textFile(\"hdfs:///user/hadoop/datasets/gutenberg-small/*.txt\")\n",
    "for f in files_rdd.take(10):\n",
    "    print(f)"
   ]
  },
  {
   "cell_type": "code",
   "execution_count": 5,
   "metadata": {},
   "outputs": [
    {
     "data": {
      "application/vnd.jupyter.widget-view+json": {
       "model_id": "",
       "version_major": 2,
       "version_minor": 0
      },
      "text/plain": [
       "FloatProgress(value=0.0, bar_style='info', description='Progress:', layout=Layout(height='25px', width='50%'),…"
      ]
     },
     "metadata": {},
     "output_type": "display_data"
    },
    {
     "name": "stdout",
     "output_type": "stream",
     "text": [
      "LINCOLN\n",
      "LETTERS\n",
      "By\n",
      "Abraham\n",
      "Lincoln\n",
      "Published\n",
      "by\n",
      "The\n",
      "Bibilophile\n",
      "Society"
     ]
    }
   ],
   "source": [
    "tokens = files_rdd.flatMap(lambda line: line.split())\n",
    "for t in tokens.take(10):\n",
    "    print(t)"
   ]
  },
  {
   "cell_type": "code",
   "execution_count": 6,
   "metadata": {},
   "outputs": [
    {
     "data": {
      "application/vnd.jupyter.widget-view+json": {
       "model_id": "",
       "version_major": 2,
       "version_minor": 0
      },
      "text/plain": [
       "FloatProgress(value=0.0, bar_style='info', description='Progress:', layout=Layout(height='25px', width='50%'),…"
      ]
     },
     "metadata": {},
     "output_type": "display_data"
    },
    {
     "name": "stdout",
     "output_type": "stream",
     "text": [
      "('LINCOLN', 1)\n",
      "('LETTERS', 1)\n",
      "('By', 1)\n",
      "('Abraham', 1)\n",
      "('Lincoln', 1)\n",
      "('Published', 1)\n",
      "('by', 1)\n",
      "('The', 1)\n",
      "('Bibilophile', 1)\n",
      "('Society', 1)"
     ]
    }
   ],
   "source": [
    "wc1 = tokens.map(lambda word: (word, 1))\n",
    "for c in wc1.take(10):\n",
    "    print(c)"
   ]
  },
  {
   "cell_type": "code",
   "execution_count": 7,
   "metadata": {},
   "outputs": [
    {
     "data": {
      "application/vnd.jupyter.widget-view+json": {
       "model_id": "",
       "version_major": 2,
       "version_minor": 0
      },
      "text/plain": [
       "FloatProgress(value=0.0, bar_style='info', description='Progress:', layout=Layout(height='25px', width='50%'),…"
      ]
     },
     "metadata": {},
     "output_type": "display_data"
    },
    {
     "name": "stdout",
     "output_type": "stream",
     "text": [
      "('thoroughly', 15)\n",
      "('themselves', 192)\n",
      "('them.', 371)\n",
      "('letter', 312)\n",
      "('A.', 1456)\n",
      "('ORIGINALS', 1)\n",
      "('THEY', 1)\n",
      "('sum', 59)\n",
      "('singular', 18)\n",
      "('let', 414)"
     ]
    }
   ],
   "source": [
    "wc = wc1.reduceByKey(lambda a, b: a + b)\n",
    "for c in wc.take(10):\n",
    "    print(c)"
   ]
  },
  {
   "cell_type": "code",
   "execution_count": 8,
   "metadata": {},
   "outputs": [
    {
     "data": {
      "application/vnd.jupyter.widget-view+json": {
       "model_id": "",
       "version_major": 2,
       "version_minor": 0
      },
      "text/plain": [
       "FloatProgress(value=0.0, bar_style='info', description='Progress:', layout=Layout(height='25px', width='50%'),…"
      ]
     },
     "metadata": {},
     "output_type": "display_data"
    },
    {
     "name": "stdout",
     "output_type": "stream",
     "text": [
      "('the', 44647)\n",
      "('of', 28020)\n",
      "('to', 23208)\n",
      "('and', 20444)\n",
      "('in', 13174)\n",
      "('that', 12265)\n",
      "('I', 10880)\n",
      "('a', 10431)\n",
      "('is', 7776)\n",
      "('be', 7148)"
     ]
    }
   ],
   "source": [
    "wcsort = wc.sortBy(lambda a: -a[1])\n",
    "for c in wcsort.take(10):\n",
    "    print(c)"
   ]
  },
  {
   "cell_type": "code",
   "execution_count": 9,
   "metadata": {},
   "outputs": [
    {
     "data": {
      "application/vnd.jupyter.widget-view+json": {
       "model_id": "",
       "version_major": 2,
       "version_minor": 0
      },
      "text/plain": [
       "FloatProgress(value=0.0, bar_style='info', description='Progress:', layout=Layout(height='25px', width='50%'),…"
      ]
     },
     "metadata": {},
     "output_type": "display_data"
    }
   ],
   "source": [
    "#salvar los datos de salida, fijarse que no exista: hdfs:///tmp/<your-username>wcout10\n",
    "wc.coalesce(1).saveAsTextFile(\"hdfs:///tmp/wcout2\")\n",
    "#si esta trabajando en aws (igual verifique que no exista previamente wcout10):\n",
    "wc.coalesce(1).saveAsTextFile(\"s3://datasetsspuertaf/out/wcount\")"
   ]
  }
 ],
 "metadata": {
  "kernelspec": {
   "display_name": "PySpark",
   "language": "python",
   "name": "pysparkkernel"
  },
  "language_info": {
   "codemirror_mode": {
    "name": "python",
    "version": 3
   },
   "file_extension": ".py",
   "mimetype": "text/x-python",
   "name": "pyspark",
   "pygments_lexer": "python3"
  }
 },
 "nbformat": 4,
 "nbformat_minor": 2
}
